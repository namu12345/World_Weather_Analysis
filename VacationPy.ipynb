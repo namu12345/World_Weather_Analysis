{
 "cells": [
  {
   "cell_type": "code",
   "execution_count": 1,
   "id": "29f84e8e",
   "metadata": {},
   "outputs": [],
   "source": [
    "# Import the dependencies.\n",
    "import pandas as pd\n",
    "import gmaps\n",
    "import requests\n",
    "# Import the API key.\n",
    "from config import gkey"
   ]
  },
  {
   "cell_type": "code",
   "execution_count": 2,
   "id": "10f1c48a",
   "metadata": {},
   "outputs": [
    {
     "data": {
      "text/html": [
       "<div>\n",
       "<style scoped>\n",
       "    .dataframe tbody tr th:only-of-type {\n",
       "        vertical-align: middle;\n",
       "    }\n",
       "\n",
       "    .dataframe tbody tr th {\n",
       "        vertical-align: top;\n",
       "    }\n",
       "\n",
       "    .dataframe thead th {\n",
       "        text-align: right;\n",
       "    }\n",
       "</style>\n",
       "<table border=\"1\" class=\"dataframe\">\n",
       "  <thead>\n",
       "    <tr style=\"text-align: right;\">\n",
       "      <th></th>\n",
       "      <th>City_ID</th>\n",
       "      <th>City</th>\n",
       "      <th>Country</th>\n",
       "      <th>Date</th>\n",
       "      <th>Lat</th>\n",
       "      <th>Lng</th>\n",
       "      <th>Max Temp</th>\n",
       "      <th>Humidity</th>\n",
       "      <th>Cloudiness</th>\n",
       "      <th>Wind Speed</th>\n",
       "    </tr>\n",
       "  </thead>\n",
       "  <tbody>\n",
       "    <tr>\n",
       "      <th>0</th>\n",
       "      <td>0</td>\n",
       "      <td>Anadyr</td>\n",
       "      <td>RU</td>\n",
       "      <td>2021-11-26 14:50:47</td>\n",
       "      <td>64.7500</td>\n",
       "      <td>177.4833</td>\n",
       "      <td>-14.30</td>\n",
       "      <td>70</td>\n",
       "      <td>0</td>\n",
       "      <td>8.95</td>\n",
       "    </tr>\n",
       "    <tr>\n",
       "      <th>1</th>\n",
       "      <td>1</td>\n",
       "      <td>Faya</td>\n",
       "      <td>SA</td>\n",
       "      <td>2021-11-26 14:50:48</td>\n",
       "      <td>18.3851</td>\n",
       "      <td>42.4509</td>\n",
       "      <td>68.11</td>\n",
       "      <td>64</td>\n",
       "      <td>8</td>\n",
       "      <td>7.58</td>\n",
       "    </tr>\n",
       "    <tr>\n",
       "      <th>2</th>\n",
       "      <td>2</td>\n",
       "      <td>Tottori</td>\n",
       "      <td>JP</td>\n",
       "      <td>2021-11-26 14:50:48</td>\n",
       "      <td>35.5000</td>\n",
       "      <td>134.2333</td>\n",
       "      <td>49.35</td>\n",
       "      <td>64</td>\n",
       "      <td>87</td>\n",
       "      <td>19.71</td>\n",
       "    </tr>\n",
       "    <tr>\n",
       "      <th>3</th>\n",
       "      <td>3</td>\n",
       "      <td>Cherepovets</td>\n",
       "      <td>RU</td>\n",
       "      <td>2021-11-26 14:50:49</td>\n",
       "      <td>59.1333</td>\n",
       "      <td>37.9000</td>\n",
       "      <td>33.62</td>\n",
       "      <td>93</td>\n",
       "      <td>90</td>\n",
       "      <td>13.42</td>\n",
       "    </tr>\n",
       "    <tr>\n",
       "      <th>4</th>\n",
       "      <td>4</td>\n",
       "      <td>Georgetown</td>\n",
       "      <td>MY</td>\n",
       "      <td>2021-11-26 14:50:49</td>\n",
       "      <td>5.4112</td>\n",
       "      <td>100.3354</td>\n",
       "      <td>80.55</td>\n",
       "      <td>89</td>\n",
       "      <td>20</td>\n",
       "      <td>4.61</td>\n",
       "    </tr>\n",
       "  </tbody>\n",
       "</table>\n",
       "</div>"
      ],
      "text/plain": [
       "   City_ID         City Country                 Date      Lat       Lng  \\\n",
       "0        0       Anadyr      RU  2021-11-26 14:50:47  64.7500  177.4833   \n",
       "1        1         Faya      SA  2021-11-26 14:50:48  18.3851   42.4509   \n",
       "2        2      Tottori      JP  2021-11-26 14:50:48  35.5000  134.2333   \n",
       "3        3  Cherepovets      RU  2021-11-26 14:50:49  59.1333   37.9000   \n",
       "4        4   Georgetown      MY  2021-11-26 14:50:49   5.4112  100.3354   \n",
       "\n",
       "   Max Temp  Humidity  Cloudiness  Wind Speed  \n",
       "0    -14.30        70           0        8.95  \n",
       "1     68.11        64           8        7.58  \n",
       "2     49.35        64          87       19.71  \n",
       "3     33.62        93          90       13.42  \n",
       "4     80.55        89          20        4.61  "
      ]
     },
     "execution_count": 2,
     "metadata": {},
     "output_type": "execute_result"
    }
   ],
   "source": [
    "# Store the CSV you saved created in part one into a DataFrame.\n",
    "city_data_df = pd.read_csv(\"weather_data/cities.csv\")\n",
    "city_data_df.head()"
   ]
  },
  {
   "cell_type": "code",
   "execution_count": 3,
   "id": "1a722207",
   "metadata": {},
   "outputs": [
    {
     "data": {
      "text/plain": [
       "City_ID         int64\n",
       "City           object\n",
       "Country        object\n",
       "Date           object\n",
       "Lat           float64\n",
       "Lng           float64\n",
       "Max Temp      float64\n",
       "Humidity        int64\n",
       "Cloudiness      int64\n",
       "Wind Speed    float64\n",
       "dtype: object"
      ]
     },
     "execution_count": 3,
     "metadata": {},
     "output_type": "execute_result"
    }
   ],
   "source": [
    "city_data_df.dtypes"
   ]
  },
  {
   "cell_type": "code",
   "execution_count": 4,
   "id": "7c69bf22",
   "metadata": {},
   "outputs": [],
   "source": [
    "# Configure gmaps to use your Google API key.\n",
    "gmaps.configure(api_key=gkey)"
   ]
  },
  {
   "cell_type": "code",
   "execution_count": 5,
   "id": "178b9bb1",
   "metadata": {},
   "outputs": [
    {
     "name": "stdout",
     "output_type": "stream",
     "text": [
      "[0, 68.11, 49.35, 33.62, 80.55, 75.72, 73.58, 78.28, 91.62, 0, 3.2, 15.31, 63.0, 71.65, 47.41, 81.99, 77.77, 31.12, 75.52, 27.01, 78.91, 68.77, 47.86, 54.18, 81.28, 78.62, 0, 73.36, 78.3, 60.64, 34.27, 48.16, 28.72, 30.78, 51.19, 63.75, 77.49, 12.72, 46.76, 39.07, 43.52, 79.83, 44.46, 79.18, 67.98, 0, 75.09, 95.68, 70.59, 73.42, 64.18, 86.11, 15.78, 91.56, 66.58, 0, 43.41, 0, 57.25, 56.23, 65.98, 11.03, 40.91, 77.14, 64.36, 0, 42.06, 48.31, 0, 86.38, 75.18, 43.39, 81.77, 68.32, 73.85, 33.12, 55.9, 32.63, 81.97, 70.21, 64.13, 43.09, 8.76, 0, 0, 82.56, 65.23, 83.84, 48.97, 31.89, 82.36, 78.87, 12.11, 99.05, 77.61, 53.38, 73.56, 87.48, 9.72, 76.64, 33.66, 76.68, 92.1, 73.2, 52.59, 44.1, 51.91, 80.19, 69.6, 49.62, 60.66, 77.23, 81.0, 77.05, 40.28, 25.34, 73.53, 63.95, 48.2, 19.53, 90.3, 86.67, 49.21, 50.97, 29.3, 46.67, 51.12, 80.56, 64.76, 90.25, 72.64, 48.02, 2.17, 57.02, 21.27, 33.12, 80.46, 31.84, 80.92, 84.9, 69.64, 79.25, 82.35, 37.22, 65.64, 81.03, 2.41, 0, 1.24, 57.43, 41.61, 53.13, 14.79, 40.73, 65.95, 35.19, 80.85, 61.05, 32.99, 0, 82.35, 76.84, 75.49, 82.54, 60.51, 96.89, 46.99, 80.47, 78.57, 62.33, 58.28, 79.77, 49.91, 0, 79.83, 14.77, 56.75, 43.72, 0, 39.6, 82.4, 26.2, 81.16, 94.3, 62.91, 63.01, 15.26, 91.98, 76.6, 79.97, 25.68, 59.63, 34.56, 70.56, 77.47, 73.47, 78.76, 72.09, 54.01, 0, 81.84, 53.51, 0, 38.98, 17.82, 27.19, 81.25, 76.57, 32.83, 51.71, 81.39, 58.37, 31.87, 87.84, 70.84, 29.84, 15.64, 51.67, 61.74, 81.63, 85.53, 70.14, 78.15, 19.09, 70.86, 56.53, 81.3, 89.04, 12.6, 40.12, 83.05, 38.98, 83.66, 88.95, 79.2, 59.14, 79.0, 13.82, 15.78, 69.76, 70.86, 66.06, 37.9, 74.98, 80.26, 65.03, 54.21, 75.7, 0.64, 34.47, 76.95, 0, 48.85, 95.41, 14.2, 54.64, 85.53, 11.88, 4.14, 57.06, 95.59, 75.31, 0, 72.01, 80.71, 27.07, 65.48, 64.85, 51.82, 55.36, 0, 67.14, 29.52, 73.29, 90.84, 25.12, 34.72, 80.98, 0, 15.78, 58.68, 30.83, 55.51, 79.61, 58.46, 31.15, 82.4, 80.89, 32.77, 58.51, 75.16, 73.98, 79.21, 43.23, 20.95, 62.74, 30.87, 77.02, 66.0, 24.03, 74.48, 44.38, 99.68, 53.89, 74.77, 78.76, 77.85, 89.17, 32.99, 44.47, 29.39, 85.68, 67.69, 55.38, 81.54, 32.32, 61.07, 67.51, 25.34, 11.64, 63.32, 4.87, 76.98, 35.49, 75.69, 79.97, 30.22, 57.76, 81.61, 71.82, 71.71, 89.24, 42.12, 84.04, 0, 42.12, 79.74, 92.61, 16.02, 82.49, 29.5, 100.17, 49.89, 11.01, 80.78, 77.47, 80.58, 0, 67.01, 80.44, 4.05, 81.57, 76.89, 82.35, 85.19, 2.44, 32.32, 51.73, 6.73, 2.07, 92.77, 28.15, 42.22, 2.62, 22.08, 83.61, 46.49, 59.09, 40.1, 60.55, 0, 54.95, 63.23, 74.91, 81.41, 82.47, 86.11, 64.47, 0, 0, 84.29, 36.09, 77.76, 43.23, 43.54, 25.14, 81.37, 70.41, 14.0, 2.89, 76.06, 70.54, 34.16, 68.97, 80.35, 98.91, 85.46, 76.95, 0, 78.85, 79.72, 0, 7.03, 37.26, 78.76, 38.86, 41.7, 76.71, 82.54, 72.05, 50.5, 81.5, 28.35, 49.68, 8.69, 43.88, 19.45, 0, 77.74, 33.71, 75.18, 44.51, 1.4, 10.71, 35.55, 30.07, 21.69, 89.47, 47.84, 55.0, 39.02, 31.14, 51.42, 19.81, 41.09, 71.38, 71.74, 0, 39.72, 42.03, 78.33, 97.21, 98.15, 37.76, 46.04, 85.1, 69.01, 53.69, 8.04, 39.42, 81.16, 79.14, 62.98, 50.76, 82.08, 51.58, 83.62, 36.32, 80.82, 76.68, 43.05, 62.94, 78.82, 74.66, 87.75, 66.97, 96.04, 63.21, 41.18, 2.26, 78.55, 82.49, 48.2, 70.41, 67.64, 85.37, 77.5, 0, 0, 74.1, 64.29, 83.73, 62.78, 45.99, 63.97, 80.24, 84.81, 65.95, 65.16, 77.27, 16.43, 90.46, 51.71, 0.79, 68.29, 74.91, 71.73, 68.9, 90.01, 79.21, 54.36, 100.89, 86.04, 75.06, 47.59, 11.57, 46.11, 15.82, 75.18, 74.53, 31.42, 40.06, 50.29, 67.51, 16.03, 59.25, 69.78, 80.82, 51.55, 82.35, 58.1, 36.41, 94.87, 0, 89.51, 78.94, 28.78, 84.2, 63.77, 66.65, 88.81, 65.44, 74.3, 50.95, 5.76, 74.97, 92.07, 39.69, 79.25, 80.94, 76.71, 68.56, 35.08, 72.28, 36.32, 12.15, 0, 50.76, 78.67, 78.17, 12.06, 42.37, 92.84, 80.49, 48.06, 60.28, 0, 47.32, 35.65, 82.69, 24.58, 3.02, 58.32, 43.48, 29.66, 37.45, 80.11, 88.7, 79.74, 78.91, 0, 41.0, 33.51, 25.03]\n"
     ]
    }
   ],
   "source": [
    "# Get the maximum temperature.\n",
    "max_temp = city_data_df[\"Max Temp\"]\n",
    "temps = []\n",
    "for temp in max_temp:\n",
    "    temps.append(max(temp, 0))\n",
    "print(temps)"
   ]
  },
  {
   "cell_type": "code",
   "execution_count": 6,
   "id": "8a5d7a57",
   "metadata": {},
   "outputs": [
    {
     "data": {
      "application/vnd.jupyter.widget-view+json": {
       "model_id": "7a2624444b19474e96adc13ea0f24d01",
       "version_major": 2,
       "version_minor": 0
      },
      "text/plain": [
       "Figure(layout=FigureLayout(height='420px'))"
      ]
     },
     "metadata": {},
     "output_type": "display_data"
    }
   ],
   "source": [
    "# Heatmap of temperature\n",
    "# Get the latitude and longitude.\n",
    "locations = city_data_df[[\"Lat\", \"Lng\"]]\n",
    "# Get the maximum temperature.\n",
    "max_temp = city_data_df[\"Max Temp\"]\n",
    "# Assign the figure variable.\n",
    "fig = gmaps.figure(center=(30.0, 31.0), zoom_level=1.5)\n",
    "# Assign the heatmap variable.(for loop inside the heatmap function - no need of above cell for for loop)\n",
    "\n",
    "heat_layer = gmaps.heatmap_layer(locations, [max(temp,0)for temp in max_temp],dissipating=False, max_intensity=300, point_radius=4)\n",
    "# Add the heatmap layer.\n",
    "fig.add_layer(heat_layer)\n",
    "# Call the figure to plot the data.\n",
    "fig"
   ]
  },
  {
   "cell_type": "code",
   "execution_count": 7,
   "id": "dfaab1ef",
   "metadata": {},
   "outputs": [
    {
     "data": {
      "application/vnd.jupyter.widget-view+json": {
       "model_id": "6e2de98abb9647b69a3c6e36333494f4",
       "version_major": 2,
       "version_minor": 0
      },
      "text/plain": [
       "Figure(layout=FigureLayout(height='420px'))"
      ]
     },
     "metadata": {},
     "output_type": "display_data"
    }
   ],
   "source": [
    "# Heatmap of percent humidity\n",
    "locations = city_data_df[[\"Lat\", \"Lng\"]]\n",
    "humidity = city_data_df[\"Humidity\"]\n",
    "fig = gmaps.figure(center=(30.0, 31.0), zoom_level=1.5)\n",
    "heat_layer = gmaps.heatmap_layer(locations, weights=humidity, dissipating=False, max_intensity=300, point_radius=4)\n",
    "\n",
    "fig.add_layer(heat_layer)\n",
    "# Call the figure to plot the data.\n",
    "fig"
   ]
  },
  {
   "cell_type": "code",
   "execution_count": 8,
   "id": "489c5261",
   "metadata": {
    "scrolled": true
   },
   "outputs": [
    {
     "data": {
      "application/vnd.jupyter.widget-view+json": {
       "model_id": "a411fd33912d498287044847c7b53015",
       "version_major": 2,
       "version_minor": 0
      },
      "text/plain": [
       "Figure(layout=FigureLayout(height='420px'))"
      ]
     },
     "metadata": {},
     "output_type": "display_data"
    }
   ],
   "source": [
    "locations = city_data_df[[\"Lat\", \"Lng\"]]\n",
    "clouds = city_data_df[\"Cloudiness\"]\n",
    "fig = gmaps.figure(center=(30.0, 31.0), zoom_level=1.5)\n",
    "heat_layer = gmaps.heatmap_layer(locations, weights=clouds, dissipating=False, max_intensity=300, point_radius=4)\n",
    "\n",
    "fig.add_layer(heat_layer)\n",
    "# Call the figure to plot the data.\n",
    "fig"
   ]
  },
  {
   "cell_type": "code",
   "execution_count": 9,
   "id": "a1a9e901",
   "metadata": {},
   "outputs": [
    {
     "data": {
      "application/vnd.jupyter.widget-view+json": {
       "model_id": "d1aa52aface8451099b9dcafa7f42412",
       "version_major": 2,
       "version_minor": 0
      },
      "text/plain": [
       "Figure(layout=FigureLayout(height='420px'))"
      ]
     },
     "metadata": {},
     "output_type": "display_data"
    }
   ],
   "source": [
    "locations = city_data_df[[\"Lat\", \"Lng\"]]\n",
    "windspeed = city_data_df[\"Wind Speed\"]\n",
    "fig = gmaps.figure(center=(30.0, 31.0), zoom_level=1.5)\n",
    "heat_layer = gmaps.heatmap_layer(locations, weights=windspeed, dissipating=False, max_intensity=300, point_radius=4)\n",
    "\n",
    "fig.add_layer(heat_layer)\n",
    "# Call the figure to plot the data.\n",
    "fig"
   ]
  },
  {
   "cell_type": "code",
   "execution_count": 16,
   "id": "a9b45be5",
   "metadata": {},
   "outputs": [
    {
     "name": "stdout",
     "output_type": "stream",
     "text": [
      "What is the minimum temperature you would like for your trip? 75\n",
      "What is the maximum temperature you would like for your trip? 90\n"
     ]
    }
   ],
   "source": [
    "# Ask the customer to add a minimum and maximum temperature value.\n",
    "min_temp = float(input(\"What is the minimum temperature you would like for your trip? \"))\n",
    "max_temp = float(input(\"What is the maximum temperature you would like for your trip? \"))"
   ]
  },
  {
   "cell_type": "code",
   "execution_count": 17,
   "id": "d4042848",
   "metadata": {},
   "outputs": [
    {
     "data": {
      "text/html": [
       "<div>\n",
       "<style scoped>\n",
       "    .dataframe tbody tr th:only-of-type {\n",
       "        vertical-align: middle;\n",
       "    }\n",
       "\n",
       "    .dataframe tbody tr th {\n",
       "        vertical-align: top;\n",
       "    }\n",
       "\n",
       "    .dataframe thead th {\n",
       "        text-align: right;\n",
       "    }\n",
       "</style>\n",
       "<table border=\"1\" class=\"dataframe\">\n",
       "  <thead>\n",
       "    <tr style=\"text-align: right;\">\n",
       "      <th></th>\n",
       "      <th>City_ID</th>\n",
       "      <th>City</th>\n",
       "      <th>Country</th>\n",
       "      <th>Date</th>\n",
       "      <th>Lat</th>\n",
       "      <th>Lng</th>\n",
       "      <th>Max Temp</th>\n",
       "      <th>Humidity</th>\n",
       "      <th>Cloudiness</th>\n",
       "      <th>Wind Speed</th>\n",
       "    </tr>\n",
       "  </thead>\n",
       "  <tbody>\n",
       "    <tr>\n",
       "      <th>4</th>\n",
       "      <td>4</td>\n",
       "      <td>Georgetown</td>\n",
       "      <td>MY</td>\n",
       "      <td>2021-11-26 14:50:49</td>\n",
       "      <td>5.4112</td>\n",
       "      <td>100.3354</td>\n",
       "      <td>80.55</td>\n",
       "      <td>89</td>\n",
       "      <td>20</td>\n",
       "      <td>4.61</td>\n",
       "    </tr>\n",
       "    <tr>\n",
       "      <th>5</th>\n",
       "      <td>5</td>\n",
       "      <td>Rikitea</td>\n",
       "      <td>PF</td>\n",
       "      <td>2021-11-26 14:50:49</td>\n",
       "      <td>-23.1203</td>\n",
       "      <td>-134.9692</td>\n",
       "      <td>75.72</td>\n",
       "      <td>71</td>\n",
       "      <td>100</td>\n",
       "      <td>13.04</td>\n",
       "    </tr>\n",
       "    <tr>\n",
       "      <th>7</th>\n",
       "      <td>7</td>\n",
       "      <td>Meulaboh</td>\n",
       "      <td>ID</td>\n",
       "      <td>2021-11-26 14:50:50</td>\n",
       "      <td>4.1363</td>\n",
       "      <td>96.1285</td>\n",
       "      <td>78.28</td>\n",
       "      <td>85</td>\n",
       "      <td>87</td>\n",
       "      <td>2.10</td>\n",
       "    </tr>\n",
       "    <tr>\n",
       "      <th>15</th>\n",
       "      <td>15</td>\n",
       "      <td>Wajid</td>\n",
       "      <td>SO</td>\n",
       "      <td>2021-11-26 14:50:53</td>\n",
       "      <td>3.8093</td>\n",
       "      <td>43.2471</td>\n",
       "      <td>81.99</td>\n",
       "      <td>56</td>\n",
       "      <td>100</td>\n",
       "      <td>3.85</td>\n",
       "    </tr>\n",
       "    <tr>\n",
       "      <th>16</th>\n",
       "      <td>16</td>\n",
       "      <td>Manado</td>\n",
       "      <td>ID</td>\n",
       "      <td>2021-11-26 14:49:25</td>\n",
       "      <td>1.4870</td>\n",
       "      <td>124.8455</td>\n",
       "      <td>77.77</td>\n",
       "      <td>94</td>\n",
       "      <td>20</td>\n",
       "      <td>1.14</td>\n",
       "    </tr>\n",
       "    <tr>\n",
       "      <th>18</th>\n",
       "      <td>18</td>\n",
       "      <td>Kapaa</td>\n",
       "      <td>US</td>\n",
       "      <td>2021-11-26 14:50:54</td>\n",
       "      <td>22.0752</td>\n",
       "      <td>-159.3190</td>\n",
       "      <td>75.52</td>\n",
       "      <td>73</td>\n",
       "      <td>20</td>\n",
       "      <td>12.66</td>\n",
       "    </tr>\n",
       "    <tr>\n",
       "      <th>20</th>\n",
       "      <td>20</td>\n",
       "      <td>Muisne</td>\n",
       "      <td>EC</td>\n",
       "      <td>2021-11-26 14:50:55</td>\n",
       "      <td>0.6000</td>\n",
       "      <td>-80.0333</td>\n",
       "      <td>78.91</td>\n",
       "      <td>81</td>\n",
       "      <td>100</td>\n",
       "      <td>9.46</td>\n",
       "    </tr>\n",
       "    <tr>\n",
       "      <th>24</th>\n",
       "      <td>24</td>\n",
       "      <td>Hithadhoo</td>\n",
       "      <td>MV</td>\n",
       "      <td>2021-11-26 14:50:56</td>\n",
       "      <td>-0.6000</td>\n",
       "      <td>73.0833</td>\n",
       "      <td>81.28</td>\n",
       "      <td>71</td>\n",
       "      <td>93</td>\n",
       "      <td>13.11</td>\n",
       "    </tr>\n",
       "    <tr>\n",
       "      <th>25</th>\n",
       "      <td>25</td>\n",
       "      <td>Bambanglipuro</td>\n",
       "      <td>ID</td>\n",
       "      <td>2021-11-26 14:50:57</td>\n",
       "      <td>-7.9500</td>\n",
       "      <td>110.2833</td>\n",
       "      <td>78.62</td>\n",
       "      <td>86</td>\n",
       "      <td>99</td>\n",
       "      <td>2.33</td>\n",
       "    </tr>\n",
       "    <tr>\n",
       "      <th>28</th>\n",
       "      <td>28</td>\n",
       "      <td>Atuona</td>\n",
       "      <td>PF</td>\n",
       "      <td>2021-11-26 14:50:58</td>\n",
       "      <td>-9.8000</td>\n",
       "      <td>-139.0333</td>\n",
       "      <td>78.30</td>\n",
       "      <td>75</td>\n",
       "      <td>7</td>\n",
       "      <td>18.84</td>\n",
       "    </tr>\n",
       "  </tbody>\n",
       "</table>\n",
       "</div>"
      ],
      "text/plain": [
       "    City_ID           City Country                 Date      Lat       Lng  \\\n",
       "4         4     Georgetown      MY  2021-11-26 14:50:49   5.4112  100.3354   \n",
       "5         5        Rikitea      PF  2021-11-26 14:50:49 -23.1203 -134.9692   \n",
       "7         7       Meulaboh      ID  2021-11-26 14:50:50   4.1363   96.1285   \n",
       "15       15          Wajid      SO  2021-11-26 14:50:53   3.8093   43.2471   \n",
       "16       16         Manado      ID  2021-11-26 14:49:25   1.4870  124.8455   \n",
       "18       18          Kapaa      US  2021-11-26 14:50:54  22.0752 -159.3190   \n",
       "20       20         Muisne      EC  2021-11-26 14:50:55   0.6000  -80.0333   \n",
       "24       24      Hithadhoo      MV  2021-11-26 14:50:56  -0.6000   73.0833   \n",
       "25       25  Bambanglipuro      ID  2021-11-26 14:50:57  -7.9500  110.2833   \n",
       "28       28         Atuona      PF  2021-11-26 14:50:58  -9.8000 -139.0333   \n",
       "\n",
       "    Max Temp  Humidity  Cloudiness  Wind Speed  \n",
       "4      80.55        89          20        4.61  \n",
       "5      75.72        71         100       13.04  \n",
       "7      78.28        85          87        2.10  \n",
       "15     81.99        56         100        3.85  \n",
       "16     77.77        94          20        1.14  \n",
       "18     75.52        73          20       12.66  \n",
       "20     78.91        81         100        9.46  \n",
       "24     81.28        71          93       13.11  \n",
       "25     78.62        86          99        2.33  \n",
       "28     78.30        75           7       18.84  "
      ]
     },
     "execution_count": 17,
     "metadata": {},
     "output_type": "execute_result"
    }
   ],
   "source": [
    "# Filter the dataset to find the cities that fit the criteria.\n",
    "preferred_cities_df = city_data_df.loc[(city_data_df[\"Max Temp\"] <= max_temp) & \\\n",
    "                                       (city_data_df[\"Max Temp\"] >= min_temp)]\n",
    "preferred_cities_df.head(10)"
   ]
  },
  {
   "cell_type": "code",
   "execution_count": 18,
   "id": "1ca51cdd",
   "metadata": {},
   "outputs": [
    {
     "data": {
      "text/plain": [
       "City_ID       163\n",
       "City          163\n",
       "Country       163\n",
       "Date          163\n",
       "Lat           163\n",
       "Lng           163\n",
       "Max Temp      163\n",
       "Humidity      163\n",
       "Cloudiness    163\n",
       "Wind Speed    163\n",
       "dtype: int64"
      ]
     },
     "execution_count": 18,
     "metadata": {},
     "output_type": "execute_result"
    }
   ],
   "source": [
    "preferred_cities_df.count()"
   ]
  },
  {
   "cell_type": "code",
   "execution_count": 20,
   "id": "a9661665",
   "metadata": {},
   "outputs": [
    {
     "data": {
      "text/html": [
       "<div>\n",
       "<style scoped>\n",
       "    .dataframe tbody tr th:only-of-type {\n",
       "        vertical-align: middle;\n",
       "    }\n",
       "\n",
       "    .dataframe tbody tr th {\n",
       "        vertical-align: top;\n",
       "    }\n",
       "\n",
       "    .dataframe thead th {\n",
       "        text-align: right;\n",
       "    }\n",
       "</style>\n",
       "<table border=\"1\" class=\"dataframe\">\n",
       "  <thead>\n",
       "    <tr style=\"text-align: right;\">\n",
       "      <th></th>\n",
       "      <th>City</th>\n",
       "      <th>Country</th>\n",
       "      <th>Max Temp</th>\n",
       "      <th>Lat</th>\n",
       "      <th>Lng</th>\n",
       "      <th>Hotel Name</th>\n",
       "    </tr>\n",
       "  </thead>\n",
       "  <tbody>\n",
       "    <tr>\n",
       "      <th>4</th>\n",
       "      <td>Georgetown</td>\n",
       "      <td>MY</td>\n",
       "      <td>80.55</td>\n",
       "      <td>5.4112</td>\n",
       "      <td>100.3354</td>\n",
       "      <td></td>\n",
       "    </tr>\n",
       "    <tr>\n",
       "      <th>5</th>\n",
       "      <td>Rikitea</td>\n",
       "      <td>PF</td>\n",
       "      <td>75.72</td>\n",
       "      <td>-23.1203</td>\n",
       "      <td>-134.9692</td>\n",
       "      <td></td>\n",
       "    </tr>\n",
       "    <tr>\n",
       "      <th>7</th>\n",
       "      <td>Meulaboh</td>\n",
       "      <td>ID</td>\n",
       "      <td>78.28</td>\n",
       "      <td>4.1363</td>\n",
       "      <td>96.1285</td>\n",
       "      <td></td>\n",
       "    </tr>\n",
       "    <tr>\n",
       "      <th>15</th>\n",
       "      <td>Wajid</td>\n",
       "      <td>SO</td>\n",
       "      <td>81.99</td>\n",
       "      <td>3.8093</td>\n",
       "      <td>43.2471</td>\n",
       "      <td></td>\n",
       "    </tr>\n",
       "    <tr>\n",
       "      <th>16</th>\n",
       "      <td>Manado</td>\n",
       "      <td>ID</td>\n",
       "      <td>77.77</td>\n",
       "      <td>1.4870</td>\n",
       "      <td>124.8455</td>\n",
       "      <td></td>\n",
       "    </tr>\n",
       "    <tr>\n",
       "      <th>18</th>\n",
       "      <td>Kapaa</td>\n",
       "      <td>US</td>\n",
       "      <td>75.52</td>\n",
       "      <td>22.0752</td>\n",
       "      <td>-159.3190</td>\n",
       "      <td></td>\n",
       "    </tr>\n",
       "    <tr>\n",
       "      <th>20</th>\n",
       "      <td>Muisne</td>\n",
       "      <td>EC</td>\n",
       "      <td>78.91</td>\n",
       "      <td>0.6000</td>\n",
       "      <td>-80.0333</td>\n",
       "      <td></td>\n",
       "    </tr>\n",
       "    <tr>\n",
       "      <th>24</th>\n",
       "      <td>Hithadhoo</td>\n",
       "      <td>MV</td>\n",
       "      <td>81.28</td>\n",
       "      <td>-0.6000</td>\n",
       "      <td>73.0833</td>\n",
       "      <td></td>\n",
       "    </tr>\n",
       "    <tr>\n",
       "      <th>25</th>\n",
       "      <td>Bambanglipuro</td>\n",
       "      <td>ID</td>\n",
       "      <td>78.62</td>\n",
       "      <td>-7.9500</td>\n",
       "      <td>110.2833</td>\n",
       "      <td></td>\n",
       "    </tr>\n",
       "    <tr>\n",
       "      <th>28</th>\n",
       "      <td>Atuona</td>\n",
       "      <td>PF</td>\n",
       "      <td>78.30</td>\n",
       "      <td>-9.8000</td>\n",
       "      <td>-139.0333</td>\n",
       "      <td></td>\n",
       "    </tr>\n",
       "  </tbody>\n",
       "</table>\n",
       "</div>"
      ],
      "text/plain": [
       "             City Country  Max Temp      Lat       Lng Hotel Name\n",
       "4      Georgetown      MY     80.55   5.4112  100.3354           \n",
       "5         Rikitea      PF     75.72 -23.1203 -134.9692           \n",
       "7        Meulaboh      ID     78.28   4.1363   96.1285           \n",
       "15          Wajid      SO     81.99   3.8093   43.2471           \n",
       "16         Manado      ID     77.77   1.4870  124.8455           \n",
       "18          Kapaa      US     75.52  22.0752 -159.3190           \n",
       "20         Muisne      EC     78.91   0.6000  -80.0333           \n",
       "24      Hithadhoo      MV     81.28  -0.6000   73.0833           \n",
       "25  Bambanglipuro      ID     78.62  -7.9500  110.2833           \n",
       "28         Atuona      PF     78.30  -9.8000 -139.0333           "
      ]
     },
     "execution_count": 20,
     "metadata": {},
     "output_type": "execute_result"
    }
   ],
   "source": [
    "# Create DataFrame called hotel_df to store hotel names along with city, country, max temp, and coordinates.\n",
    "hotel_df = preferred_cities_df[[\"City\", \"Country\", \"Max Temp\", \"Lat\", \"Lng\"]].copy()\n",
    "hotel_df[\"Hotel Name\"] = \"\"\n",
    "hotel_df.head(10)"
   ]
  },
  {
   "cell_type": "code",
   "execution_count": 21,
   "id": "fcb98dd6",
   "metadata": {},
   "outputs": [],
   "source": [
    "# Set parameters to search for a hotel.\n",
    "params = {\n",
    "    \"radius\": 5000,\n",
    "    \"type\": \"lodging\",\n",
    "    \"key\": gkey\n",
    "}"
   ]
  },
  {
   "cell_type": "code",
   "execution_count": 23,
   "id": "168b1e1c",
   "metadata": {},
   "outputs": [
    {
     "name": "stdout",
     "output_type": "stream",
     "text": [
      "Hotel not found... skipping.\n",
      "Hotel not found... skipping.\n",
      "Hotel not found... skipping.\n",
      "Hotel not found... skipping.\n",
      "Hotel not found... skipping.\n",
      "Hotel not found... skipping.\n",
      "Hotel not found... skipping.\n",
      "Hotel not found... skipping.\n"
     ]
    }
   ],
   "source": [
    "# Iterate through the DataFrame.\n",
    "for index, row in hotel_df.iterrows():\n",
    "    # Get the latitude and longitude.\n",
    "    lat = row[\"Lat\"]\n",
    "    lng = row[\"Lng\"]\n",
    "\n",
    "    # Add the latitude and longitude to location key for the params dictionary.\n",
    "    params[\"location\"] = f\"{lat},{lng}\"\n",
    "\n",
    "    # Use the search term: \"lodging\" and our latitude and longitude.\n",
    "    base_url = \"https://maps.googleapis.com/maps/api/place/nearbysearch/json\"\n",
    "    # Make request and get the JSON data from the search.\n",
    "    hotels = requests.get(base_url, params=params).json()\n",
    "    # Grab the first hotel from the results and store the name.\n",
    "    try:\n",
    "        hotel_df.loc[index, \"Hotel Name\"] = hotels[\"results\"][0][\"name\"]\n",
    "    except (IndexError):\n",
    "        print(\"Hotel not found... skipping.\")"
   ]
  },
  {
   "cell_type": "code",
   "execution_count": 24,
   "id": "939c9805",
   "metadata": {},
   "outputs": [
    {
     "data": {
      "text/html": [
       "<div>\n",
       "<style scoped>\n",
       "    .dataframe tbody tr th:only-of-type {\n",
       "        vertical-align: middle;\n",
       "    }\n",
       "\n",
       "    .dataframe tbody tr th {\n",
       "        vertical-align: top;\n",
       "    }\n",
       "\n",
       "    .dataframe thead th {\n",
       "        text-align: right;\n",
       "    }\n",
       "</style>\n",
       "<table border=\"1\" class=\"dataframe\">\n",
       "  <thead>\n",
       "    <tr style=\"text-align: right;\">\n",
       "      <th></th>\n",
       "      <th>City</th>\n",
       "      <th>Country</th>\n",
       "      <th>Max Temp</th>\n",
       "      <th>Lat</th>\n",
       "      <th>Lng</th>\n",
       "      <th>Hotel Name</th>\n",
       "    </tr>\n",
       "  </thead>\n",
       "  <tbody>\n",
       "    <tr>\n",
       "      <th>4</th>\n",
       "      <td>Georgetown</td>\n",
       "      <td>MY</td>\n",
       "      <td>80.55</td>\n",
       "      <td>5.4112</td>\n",
       "      <td>100.3354</td>\n",
       "      <td>Cititel Penang</td>\n",
       "    </tr>\n",
       "    <tr>\n",
       "      <th>5</th>\n",
       "      <td>Rikitea</td>\n",
       "      <td>PF</td>\n",
       "      <td>75.72</td>\n",
       "      <td>-23.1203</td>\n",
       "      <td>-134.9692</td>\n",
       "      <td>People ThankYou</td>\n",
       "    </tr>\n",
       "    <tr>\n",
       "      <th>7</th>\n",
       "      <td>Meulaboh</td>\n",
       "      <td>ID</td>\n",
       "      <td>78.28</td>\n",
       "      <td>4.1363</td>\n",
       "      <td>96.1285</td>\n",
       "      <td>Kost Pria</td>\n",
       "    </tr>\n",
       "    <tr>\n",
       "      <th>15</th>\n",
       "      <td>Wajid</td>\n",
       "      <td>SO</td>\n",
       "      <td>81.99</td>\n",
       "      <td>3.8093</td>\n",
       "      <td>43.2471</td>\n",
       "      <td>xamdihotelresturant114</td>\n",
       "    </tr>\n",
       "    <tr>\n",
       "      <th>16</th>\n",
       "      <td>Manado</td>\n",
       "      <td>ID</td>\n",
       "      <td>77.77</td>\n",
       "      <td>1.4870</td>\n",
       "      <td>124.8455</td>\n",
       "      <td>Aryaduta Hotel</td>\n",
       "    </tr>\n",
       "    <tr>\n",
       "      <th>18</th>\n",
       "      <td>Kapaa</td>\n",
       "      <td>US</td>\n",
       "      <td>75.52</td>\n",
       "      <td>22.0752</td>\n",
       "      <td>-159.3190</td>\n",
       "      <td>Sheraton Kauai Coconut Beach Resort</td>\n",
       "    </tr>\n",
       "    <tr>\n",
       "      <th>20</th>\n",
       "      <td>Muisne</td>\n",
       "      <td>EC</td>\n",
       "      <td>78.91</td>\n",
       "      <td>0.6000</td>\n",
       "      <td>-80.0333</td>\n",
       "      <td>Quinta Samay</td>\n",
       "    </tr>\n",
       "    <tr>\n",
       "      <th>24</th>\n",
       "      <td>Hithadhoo</td>\n",
       "      <td>MV</td>\n",
       "      <td>81.28</td>\n",
       "      <td>-0.6000</td>\n",
       "      <td>73.0833</td>\n",
       "      <td>Scoop Guest House</td>\n",
       "    </tr>\n",
       "    <tr>\n",
       "      <th>25</th>\n",
       "      <td>Bambanglipuro</td>\n",
       "      <td>ID</td>\n",
       "      <td>78.62</td>\n",
       "      <td>-7.9500</td>\n",
       "      <td>110.2833</td>\n",
       "      <td>Puri Brata</td>\n",
       "    </tr>\n",
       "    <tr>\n",
       "      <th>28</th>\n",
       "      <td>Atuona</td>\n",
       "      <td>PF</td>\n",
       "      <td>78.30</td>\n",
       "      <td>-9.8000</td>\n",
       "      <td>-139.0333</td>\n",
       "      <td>Villa Enata</td>\n",
       "    </tr>\n",
       "  </tbody>\n",
       "</table>\n",
       "</div>"
      ],
      "text/plain": [
       "             City Country  Max Temp      Lat       Lng  \\\n",
       "4      Georgetown      MY     80.55   5.4112  100.3354   \n",
       "5         Rikitea      PF     75.72 -23.1203 -134.9692   \n",
       "7        Meulaboh      ID     78.28   4.1363   96.1285   \n",
       "15          Wajid      SO     81.99   3.8093   43.2471   \n",
       "16         Manado      ID     77.77   1.4870  124.8455   \n",
       "18          Kapaa      US     75.52  22.0752 -159.3190   \n",
       "20         Muisne      EC     78.91   0.6000  -80.0333   \n",
       "24      Hithadhoo      MV     81.28  -0.6000   73.0833   \n",
       "25  Bambanglipuro      ID     78.62  -7.9500  110.2833   \n",
       "28         Atuona      PF     78.30  -9.8000 -139.0333   \n",
       "\n",
       "                             Hotel Name  \n",
       "4                        Cititel Penang  \n",
       "5                       People ThankYou  \n",
       "7                             Kost Pria  \n",
       "15               xamdihotelresturant114  \n",
       "16                       Aryaduta Hotel  \n",
       "18  Sheraton Kauai Coconut Beach Resort  \n",
       "20                         Quinta Samay  \n",
       "24                    Scoop Guest House  \n",
       "25                           Puri Brata  \n",
       "28                          Villa Enata  "
      ]
     },
     "execution_count": 24,
     "metadata": {},
     "output_type": "execute_result"
    }
   ],
   "source": [
    "hotel_df.head(10)"
   ]
  },
  {
   "cell_type": "code",
   "execution_count": 25,
   "id": "eb429deb",
   "metadata": {},
   "outputs": [
    {
     "data": {
      "application/vnd.jupyter.widget-view+json": {
       "model_id": "27c36bf7560c4d508443bc71b19360d1",
       "version_major": 2,
       "version_minor": 0
      },
      "text/plain": [
       "Figure(layout=FigureLayout(height='420px'))"
      ]
     },
     "metadata": {},
     "output_type": "display_data"
    }
   ],
   "source": [
    "# Add a heatmap of temperature for the vacation spots and marker for each city.\n",
    "locations = hotel_df[[\"Lat\", \"Lng\"]]\n",
    "max_temp = hotel_df[\"Max Temp\"]\n",
    "fig = gmaps.figure(center=(30.0, 31.0), zoom_level=1.5)\n",
    "heat_layer = gmaps.heatmap_layer(locations, weights=max_temp,\n",
    "             dissipating=False, max_intensity=300, point_radius=4)\n",
    "marker_layer = gmaps.marker_layer(locations)\n",
    "fig.add_layer(heat_layer)\n",
    "fig.add_layer(marker_layer)\n",
    "# Call the figure to plot the data.\n",
    "fig"
   ]
  },
  {
   "cell_type": "code",
   "execution_count": 26,
   "id": "cc3dfacf",
   "metadata": {},
   "outputs": [],
   "source": [
    "info_box_template = \"\"\"\n",
    "<dl>\n",
    "<dt>Hotel Name</dt><dd>{Hotel Name}</dd>\n",
    "<dt>City</dt><dd>{City}</dd>\n",
    "<dt>Country</dt><dd>{Country}</dd>\n",
    "<dt>Max Temp</dt><dd>{Max Temp} °F</dd>\n",
    "</dl>\n",
    "\"\"\""
   ]
  },
  {
   "cell_type": "code",
   "execution_count": 27,
   "id": "7a413bdf",
   "metadata": {},
   "outputs": [],
   "source": [
    "# Store the DataFrame Row.\n",
    "hotel_info = [info_box_template.format(**row) for index, row in hotel_df.iterrows()]"
   ]
  },
  {
   "cell_type": "code",
   "execution_count": 28,
   "id": "51219abf",
   "metadata": {},
   "outputs": [
    {
     "data": {
      "application/vnd.jupyter.widget-view+json": {
       "model_id": "35d07a57dbe14d5591b945bad0329600",
       "version_major": 2,
       "version_minor": 0
      },
      "text/plain": [
       "Figure(layout=FigureLayout(height='420px'))"
      ]
     },
     "metadata": {},
     "output_type": "display_data"
    }
   ],
   "source": [
    "# Add a heatmap of temperature for the vacation spots and a pop-up marker for each city.\n",
    "locations = hotel_df[[\"Lat\", \"Lng\"]]\n",
    "max_temp = hotel_df[\"Max Temp\"]\n",
    "fig = gmaps.figure(center=(30.0, 31.0), zoom_level=1.5)\n",
    "heat_layer = gmaps.heatmap_layer(locations, weights=max_temp,dissipating=False,\n",
    "             max_intensity=300, point_radius=4)\n",
    "marker_layer = gmaps.marker_layer(locations, info_box_content=hotel_info)\n",
    "fig.add_layer(heat_layer)\n",
    "fig.add_layer(marker_layer)\n",
    "\n",
    "# Call the figure to plot the data.\n",
    "fig"
   ]
  },
  {
   "cell_type": "code",
   "execution_count": null,
   "id": "38a211a7",
   "metadata": {},
   "outputs": [],
   "source": []
  }
 ],
 "metadata": {
  "kernelspec": {
   "display_name": "PythonData",
   "language": "python",
   "name": "pythondata"
  },
  "language_info": {
   "codemirror_mode": {
    "name": "ipython",
    "version": 3
   },
   "file_extension": ".py",
   "mimetype": "text/x-python",
   "name": "python",
   "nbconvert_exporter": "python",
   "pygments_lexer": "ipython3",
   "version": "3.7.10"
  }
 },
 "nbformat": 4,
 "nbformat_minor": 5
}
